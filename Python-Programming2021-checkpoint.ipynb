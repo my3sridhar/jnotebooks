{
 "cells": [
  {
   "cell_type": "markdown",
   "metadata": {},
   "source": [
    "Questions-week1"
   ]
  },
  {
   "cell_type": "markdown",
   "metadata": {},
   "source": [
    "Primitive Types\n",
    "\n",
    "1.What is a variable?\n",
    "\n",
    "2.What are the primitive built-in types in Python?\n",
    "\n",
    "3.When should we use “”” (tripe quotes) to define strings?\n",
    "\n",
    "4.Assuming (name = “John Smith”), what does name[1] return?\n",
    "\n",
    "5.What about name[-2]?\n",
    "\n",
    "6.What about name[1:-1]?\n",
    "\n",
    "7.How to get the length of name?\n",
    "\n",
    "8.What are the escape sequences in Python?\n",
    "\n",
    "9.What is the result of f“{2+2}+{10%3}”?\n",
    "\n",
    "10.Given (name = “john smith”), what will name.title() return?\n",
    "\n",
    "11.What does name.strip() do?\n",
    "\n",
    "12.What will name.find(“Smith”) return?\n",
    "\n",
    "13.What will be the value of name after we call name.replace(“j”, “k”)?\n",
    "\n",
    "14.How can we check to see if name contains “John”?\n",
    "\n",
    "15.What are the 3 types of numbers in Python?\n"
   ]
  },
  {
   "cell_type": "code",
   "execution_count": 2,
   "metadata": {},
   "outputs": [
    {
     "name": "stdout",
     "output_type": "stream",
     "text": [
      "maithri\n",
      "12\n",
      "apple\n"
     ]
    }
   ],
   "source": [
    "#1\n",
    "a=\"maithri\"\n",
    "c=\"apple\"\n",
    "b=12\n",
    "print(a)\n",
    "print(b)\n",
    "print(c)"
   ]
  },
  {
   "cell_type": "code",
   "execution_count": 7,
   "metadata": {},
   "outputs": [
    {
     "name": "stdout",
     "output_type": "stream",
     "text": [
      "Gray November\n",
      "I've been down since July\n",
      "Motion capture\n",
      "Put me in a bad light\n",
      "I replay my footsteps on each stepping stone\n",
      "Trying to find the one where I went wrong\n",
      "Writing letters\n",
      "Addressed to the fire\n",
      "And I was catching my breath\n",
      "Staring out an open window\n",
      "Catching my death\n",
      "And I couldn't be sure\n",
      "I had a feeling so peculiar\n",
      "That this pain would be for\n",
      "Evermore\n",
      "Hey December\n",
      "Guess I'm feeling unmoored\n",
      "Can't remember\n",
      "What I used to fight for\n",
      "I rewind the tape but all it does is pause\n",
      "On the very moment all was lost\n",
      "Sending signals\n",
      "To be double crossed\n"
     ]
    }
   ],
   "source": [
    "#2\n",
    "#This is used for long comments in codes\n",
    "\n",
    "string=\"\"\"Gray November\n",
    "I've been down since July\n",
    "Motion capture\n",
    "Put me in a bad light\n",
    "I replay my footsteps on each stepping stone\n",
    "Trying to find the one where I went wrong\n",
    "Writing letters\n",
    "Addressed to the fire\n",
    "And I was catching my breath\n",
    "Staring out an open window\n",
    "Catching my death\n",
    "And I couldn't be sure\n",
    "I had a feeling so peculiar\n",
    "That this pain would be for\n",
    "Evermore\n",
    "Hey December\n",
    "Guess I'm feeling unmoored\n",
    "Can't remember\n",
    "What I used to fight for\n",
    "I rewind the tape but all it does is pause\n",
    "On the very moment all was lost\n",
    "Sending signals\n",
    "To be double crossed\"\"\"\n",
    "print(string)"
   ]
  },
  {
   "cell_type": "code",
   "execution_count": 10,
   "metadata": {},
   "outputs": [
    {
     "name": "stdout",
     "output_type": "stream",
     "text": [
      "33\n",
      "0.2\n",
      "maithri\n",
      "True\n"
     ]
    }
   ],
   "source": [
    "#3\n",
    "#The primitive built in types are Integers, Floats, Strings and Boolean values\n",
    "integer=33\n",
    "floats=0.2\n",
    "string=\"maithri\"\n",
    "boolean=True\n",
    "print(integer)\n",
    "print(floats)\n",
    "print(string)\n",
    "print(boolean)"
   ]
  },
  {
   "cell_type": "code",
   "execution_count": 17,
   "metadata": {},
   "outputs": [
    {
     "name": "stdout",
     "output_type": "stream",
     "text": [
      "o\n",
      "t\n",
      "ohnSmit\n",
      "9\n"
     ]
    }
   ],
   "source": [
    "#4\n",
    "#5\n",
    "#6\n",
    "#7\n",
    "name=\"JohnSmith\"\n",
    "print(name[1])\n",
    "print(name[-2])\n",
    "print(name[1:-1])\n",
    "print(len(name))"
   ]
  },
  {
   "cell_type": "code",
   "execution_count": 18,
   "metadata": {},
   "outputs": [],
   "source": [
    "#8\n",
    "#\\t- tab\n",
    "#\\'-Single quote\n",
    "#\\\"-Double quote\n",
    "#\\\\-Backslash\n",
    "#/n- Newline\n",
    "#these are the escape sequences in python\n",
    "#Escape sequences allow you to include special characters in strings"
   ]
  },
  {
   "cell_type": "code",
   "execution_count": 23,
   "metadata": {},
   "outputs": [
    {
     "name": "stdout",
     "output_type": "stream",
     "text": [
      "5\n"
     ]
    }
   ],
   "source": [
    "#9\n",
    "v= 2+2+10%3\n",
    "print(v)"
   ]
  },
  {
   "cell_type": "code",
   "execution_count": 32,
   "metadata": {},
   "outputs": [
    {
     "name": "stdout",
     "output_type": "stream",
     "text": [
      "John Smith\n",
      "john Smith\n",
      "5\n",
      "kohn Smith\n",
      "Name has the word john\n"
     ]
    }
   ],
   "source": [
    "#10\n",
    "#11\n",
    "#12\n",
    "#13\n",
    "#14\n",
    "import re\n",
    "\n",
    "name=\"john Smith\"\n",
    "print(name.title())\n",
    "print(name.strip())\n",
    "print(name.find(\"Smith\"))\n",
    "print(name.replace(\"j\", \"k\"))\n",
    "\n",
    "if \"john\" in name:\n",
    "    print(\"Name has the word john\")"
   ]
  },
  {
   "cell_type": "markdown",
   "metadata": {},
   "source": [
    "#15\n",
    "\n",
    "the three types of numbers in python are integers, floats, and complex number"
   ]
  },
  {
   "cell_type": "markdown",
   "metadata": {},
   "source": [
    "Python week1: Part2"
   ]
  },
  {
   "cell_type": "markdown",
   "metadata": {},
   "source": [
    "Questions"
   ]
  },
  {
   "cell_type": "markdown",
   "metadata": {},
   "source": [
    "What is the difference between 10 / 3 and 10 // 3?\n",
    "\n",
    "What is the result of 10 ** 3?\n",
    "\n",
    "Given (x = 1), what will be the value of after we run (x += 2)?\n",
    "\n",
    "How can we round a number?\n",
    "\n",
    "What is the result of float(1)?\n",
    "\n",
    "What is the result of bool(“False”)?\n",
    "\n",
    "What are the falsy values in Python?\n",
    "\n",
    "What is the result of 10 == “10”?\n",
    "\n",
    "What is the result of “bag” > “apple”?\n",
    "\n",
    "What is the result of not(True or False)?\n",
    "\n",
    "Under what circumstances does the expression 18 <= age < 65 evaluate to True?\n",
    "\n",
    "What does range(1, 10, 2) return?\n",
    "\n",
    "Name 3 iterable objects in Python.\n"
   ]
  },
  {
   "cell_type": "code",
   "execution_count": 1,
   "metadata": {},
   "outputs": [
    {
     "name": "stdout",
     "output_type": "stream",
     "text": [
      "3.3333333333333335\n",
      "3\n"
     ]
    }
   ],
   "source": [
    "#1\n",
    "a=10/3\n",
    "b=10//3\n",
    "print(a)\n",
    "print(b)\n",
    "#/= quotient\n",
    "#//= rounded quotient"
   ]
  },
  {
   "cell_type": "code",
   "execution_count": 3,
   "metadata": {},
   "outputs": [
    {
     "name": "stdout",
     "output_type": "stream",
     "text": [
      "1000\n"
     ]
    }
   ],
   "source": [
    "#2\n",
    "c=10**3\n",
    "print(c)\n",
    "#exponentiation"
   ]
  },
  {
   "cell_type": "code",
   "execution_count": 5,
   "metadata": {},
   "outputs": [
    {
     "name": "stdout",
     "output_type": "stream",
     "text": [
      "3\n"
     ]
    }
   ],
   "source": [
    "#3\n",
    "x=1\n",
    "x=x+2\n",
    "print(x)"
   ]
  },
  {
   "cell_type": "code",
   "execution_count": null,
   "metadata": {},
   "outputs": [],
   "source": [
    "#4\n",
    "#We can round a number by using this: /"
   ]
  },
  {
   "cell_type": "code",
   "execution_count": 6,
   "metadata": {},
   "outputs": [
    {
     "name": "stdout",
     "output_type": "stream",
     "text": [
      "1.0\n"
     ]
    }
   ],
   "source": [
    "#5\n",
    "y=float(1)\n",
    "print(y)"
   ]
  },
  {
   "cell_type": "code",
   "execution_count": 8,
   "metadata": {},
   "outputs": [
    {
     "name": "stdout",
     "output_type": "stream",
     "text": [
      "False\n"
     ]
    }
   ],
   "source": [
    "#6\n",
    "v=bool(False)\n",
    "print(v)"
   ]
  },
  {
   "cell_type": "code",
   "execution_count": null,
   "metadata": {},
   "outputs": [],
   "source": [
    "#7\n",
    "#The false values in python are none, zero, empty mapping, empty sequence and False"
   ]
  },
  {
   "cell_type": "code",
   "execution_count": 9,
   "metadata": {},
   "outputs": [
    {
     "name": "stdout",
     "output_type": "stream",
     "text": [
      "True\n"
     ]
    }
   ],
   "source": [
    "#8\n",
    "o= 10==10\n",
    "print(o)"
   ]
  },
  {
   "cell_type": "code",
   "execution_count": 10,
   "metadata": {},
   "outputs": [
    {
     "name": "stdout",
     "output_type": "stream",
     "text": [
      "True\n"
     ]
    }
   ],
   "source": [
    "#9\n",
    "k=\"bag\" > \"apple\"\n",
    "print(k)"
   ]
  },
  {
   "cell_type": "code",
   "execution_count": 12,
   "metadata": {},
   "outputs": [
    {
     "name": "stdout",
     "output_type": "stream",
     "text": [
      "True\n"
     ]
    }
   ],
   "source": [
    "#10\n",
    "z=(True or False)\n",
    "print(z)"
   ]
  },
  {
   "cell_type": "code",
   "execution_count": null,
   "metadata": {},
   "outputs": [],
   "source": [
    "#11\n",
    "18 <= age < 65"
   ]
  },
  {
   "cell_type": "code",
   "execution_count": 13,
   "metadata": {},
   "outputs": [
    {
     "name": "stdout",
     "output_type": "stream",
     "text": [
      "1\n",
      "3\n",
      "5\n",
      "7\n",
      "9\n"
     ]
    }
   ],
   "source": [
    "#12\n",
    "for i in range(1,10,2):\n",
    "    print(i)"
   ]
  },
  {
   "cell_type": "code",
   "execution_count": null,
   "metadata": {},
   "outputs": [],
   "source": [
    "#13\n",
    "#Lists, tuples and strings can be called iterable objects"
   ]
  },
  {
   "cell_type": "markdown",
   "metadata": {},
   "source": [
    "Questions-week2"
   ]
  },
  {
   "cell_type": "markdown",
   "metadata": {},
   "source": [
    "1.Write a function that returns the maximum of two numbers.\n",
    "\n",
    "\n",
    "2.Write a function called fizz_buzz that takes a number.\n",
    "\n",
    "If the number is divisible by 3, it should return “Fizz”.\n",
    "If it is divisible by 5, it should return “Buzz”.\n",
    "If it is divisible by both 3 and 5, it should return “FizzBuzz”.\n",
    "Otherwise, it should return the same number.\n",
    "\n",
    "\n",
    "3.Write a function for checking the speed of drivers. This function should have one parameter: speed.\n",
    "If speed is less than 70, it should print “Ok”.\n",
    "Otherwise, for every 5km above the speed limit (70), it should give the driver one demerit point and print the total number of demerit points. For example, if the speed is 80, it should print: “Points: 2”.\n",
    "If the driver gets more than 12 points, the function should print: “License suspended”\n",
    "    \n",
    "4.Write a function that returns the sum of multiples of 3 and 5 between 0 and limit (parameter). For example, if limit is 20, it should return the sum of 3, 5, 6, 9, 10, 12, 15, 18, 20.\n",
    "\n",
    "\n",
    "\n",
    "\n",
    "5.Write a function called show_stars(rows). If rows is 5, it should print the following:\n",
    "1.*\n",
    "2.**\n",
    "3.***\n",
    "4.****\n",
    "5.***** Write a function that prints all the prime numbers between 0 and limit where limit is a parameter. \n",
    "\n",
    "\n",
    "6.Write a function called showNumbers that takes a parameter called limit. It should print all the numbers between 0 and limit with a label to identify the even and odd numbers. For example, if the limit is 3, it should print:\n",
    "0 EVEN\n",
    "1 ODD\n",
    "2 EVEN\n",
    "3 ODD\n",
    "    \n"
   ]
  },
  {
   "cell_type": "code",
   "execution_count": null,
   "metadata": {},
   "outputs": [],
   "source": []
  },
  {
   "cell_type": "markdown",
   "metadata": {},
   "source": [
    "Questions-week3"
   ]
  },
  {
   "attachments": {},
   "cell_type": "markdown",
   "metadata": {},
   "source": [
    "1.Write a Python program to test if a given page is found or not on the server.\n",
    "Get the content from the page and save it to a file\n"
   ]
  },
  {
   "cell_type": "code",
   "execution_count": 18,
   "metadata": {},
   "outputs": [
    {
     "name": "stdout",
     "output_type": "stream",
     "text": [
      "Server not found!\n",
      "HTML Details\n",
      "b'<!doctype html>\\n<html>\\n<head>\\n    <title>Example Domain</title>\\n\\n    <meta charset=\"utf-8\" />\\n    <meta http-equiv=\"Content-type\" content=\"text/html; charset=utf-8\" />\\n    <meta name=\"viewport\" content=\"width=device-width, initial-scale=1\" />\\n    <style type=\"text/css\">\\n    body {\\n        background-color: #f0f0f2;\\n        margin: 0;\\n        padding: 0;\\n        font-family: -apple-system, system-ui, BlinkMacSystemFont, \"Segoe UI\", \"Open Sans\", \"Helvetica Neue\", Helvetica, Arial, sans-serif;\\n        \\n    }\\n    div {\\n        width: 600px;\\n        margin: 5em auto;\\n        padding: 2em;\\n        background-color: #fdfdff;\\n        border-radius: 0.5em;\\n        box-shadow: 2px 3px 7px 2px rgba(0,0,0,0.02);\\n    }\\n    a:link, a:visited {\\n        color: #38488f;\\n        text-decoration: none;\\n    }\\n    @media (max-width: 700px) {\\n        div {\\n            margin: 0 auto;\\n            width: auto;\\n        }\\n    }\\n    </style>    \\n</head>\\n\\n<body>\\n<div>\\n    <h1>Example Domain</h1>\\n    <p>This domain is for use in illustrative examples in documents. You may use this\\n    domain in literature without prior coordination or asking for permission.</p>\\n    <p><a href=\"https://www.iana.org/domains/example\">More information...</a></p>\\n</div>\\n</body>\\n</html>\\n'\n"
     ]
    }
   ],
   "source": [
    "from urllib.request import urlopen\n",
    "from urllib.error import HTTPError\n",
    "from urllib.error import URLError\n",
    "\n",
    "try:\n",
    "    html = urlopen(\"https://abcdxyv.com\")\n",
    "except HTTPError as e:\n",
    "    print(\"HTTP error\")\n",
    "except URLError as e:\n",
    "    x=\"Server not found!\"\n",
    "    print(x)\n",
    "else:\n",
    "    print(html.read())\n",
    "    \n",
    "try:\n",
    "    html = urlopen(\"http://www.example.com/\")\n",
    "except HTTPError as e:\n",
    "    print(\"HTTP error\")\n",
    "except URLError as e:\n",
    "    print(\"Server not found!\")\n",
    "else:\n",
    "    y=print(\"HTML Details\")    \n",
    "    print(html.read()) "
   ]
  },
  {
   "cell_type": "markdown",
   "metadata": {},
   "source": [
    "Questions-week4"
   ]
  },
  {
   "attachments": {},
   "cell_type": "markdown",
   "metadata": {},
   "source": [
    "1.Write a Python program to extract h1 tag from example.com"
   ]
  },
  {
   "cell_type": "code",
   "execution_count": 8,
   "metadata": {},
   "outputs": [
    {
     "name": "stdout",
     "output_type": "stream",
     "text": [
      "<h1>Example Domain</h1>\n"
     ]
    }
   ],
   "source": [
    "from urllib.request import urlopen\n",
    "from bs4 import BeautifulSoup\n",
    "html = urlopen('http://example.com/')\n",
    "bsh = BeautifulSoup(html.read(), 'html.parser')\n",
    "print(bsh.h1)"
   ]
  },
  {
   "cell_type": "code",
   "execution_count": null,
   "metadata": {},
   "outputs": [],
   "source": []
  }
 ],
 "metadata": {
  "kernelspec": {
   "display_name": "Python 3",
   "language": "python",
   "name": "python3"
  },
  "language_info": {
   "codemirror_mode": {
    "name": "ipython",
    "version": 3
   },
   "file_extension": ".py",
   "mimetype": "text/x-python",
   "name": "python",
   "nbconvert_exporter": "python",
   "pygments_lexer": "ipython3",
   "version": "3.7.6"
  }
 },
 "nbformat": 4,
 "nbformat_minor": 4
}
